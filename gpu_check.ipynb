{
 "metadata": {
  "language_info": {
   "codemirror_mode": {
    "name": "ipython",
    "version": 3
   },
   "file_extension": ".py",
   "mimetype": "text/x-python",
   "name": "python",
   "nbconvert_exporter": "python",
   "pygments_lexer": "ipython3",
   "version": "3.8.5-final"
  },
  "orig_nbformat": 2,
  "kernelspec": {
   "name": "python_defaultSpec_1601248631760",
   "display_name": "Python 3.8.5 64-bit ('gpu_capstone': conda)",
   "metadata": {
    "interpreter": {
     "hash": "9d0bcf51e830453c830db070695b4c51b1105a026d7fcee447769fccb942fa2c"
    }
   }
  }
 },
 "nbformat": 4,
 "nbformat_minor": 2,
 "cells": [
  {
   "cell_type": "code",
   "execution_count": 3,
   "metadata": {},
   "outputs": [
    {
     "output_type": "error",
     "ename": "SyntaxError",
     "evalue": "invalid syntax (<ipython-input-3-ba6c65dc902f>, line 1)",
     "traceback": [
      "\u001b[1;36m  File \u001b[1;32m\"<ipython-input-3-ba6c65dc902f>\"\u001b[1;36m, line \u001b[1;32m1\u001b[0m\n\u001b[1;33m    jupyter notebook\u001b[0m\n\u001b[1;37m            ^\u001b[0m\n\u001b[1;31mSyntaxError\u001b[0m\u001b[1;31m:\u001b[0m invalid syntax\n"
     ]
    }
   ],
   "source": [
    "jupyter notebook"
   ]
  },
  {
   "cell_type": "code",
   "execution_count": 1,
   "metadata": {},
   "outputs": [
    {
     "output_type": "error",
     "ename": "ModuleNotFoundError",
     "evalue": "No module named 'google.colab'",
     "traceback": [
      "\u001b[1;31m---------------------------------------------------------------------------\u001b[0m",
      "\u001b[1;31mModuleNotFoundError\u001b[0m                       Traceback (most recent call last)",
      "\u001b[1;32m<ipython-input-1-0080a23ac025>\u001b[0m in \u001b[0;36m<module>\u001b[1;34m\u001b[0m\n\u001b[0;32m      6\u001b[0m \u001b[1;32mfrom\u001b[0m \u001b[0mpydrive\u001b[0m\u001b[1;33m.\u001b[0m\u001b[0mauth\u001b[0m \u001b[1;32mimport\u001b[0m \u001b[0mGoogleAuth\u001b[0m\u001b[1;33m\u001b[0m\u001b[1;33m\u001b[0m\u001b[0m\n\u001b[0;32m      7\u001b[0m \u001b[1;32mfrom\u001b[0m \u001b[0mpydrive\u001b[0m\u001b[1;33m.\u001b[0m\u001b[0mdrive\u001b[0m \u001b[1;32mimport\u001b[0m \u001b[0mGoogleDrive\u001b[0m\u001b[1;33m\u001b[0m\u001b[1;33m\u001b[0m\u001b[0m\n\u001b[1;32m----> 8\u001b[1;33m \u001b[1;32mfrom\u001b[0m \u001b[0mgoogle\u001b[0m\u001b[1;33m.\u001b[0m\u001b[0mcolab\u001b[0m \u001b[1;32mimport\u001b[0m \u001b[0mauth\u001b[0m\u001b[1;33m\u001b[0m\u001b[1;33m\u001b[0m\u001b[0m\n\u001b[0m\u001b[0;32m      9\u001b[0m \u001b[1;32mfrom\u001b[0m \u001b[0moauth2client\u001b[0m\u001b[1;33m.\u001b[0m\u001b[0mclient\u001b[0m \u001b[1;32mimport\u001b[0m \u001b[0mGoogleCredentials\u001b[0m\u001b[1;33m\u001b[0m\u001b[1;33m\u001b[0m\u001b[0m\n\u001b[0;32m     10\u001b[0m \u001b[1;33m\u001b[0m\u001b[0m\n",
      "\u001b[1;31mModuleNotFoundError\u001b[0m: No module named 'google.colab'"
     ]
    }
   ],
   "source": [
    "import pandas as pd\n",
    "import numpy as np\n",
    "%matplotlib inline\n",
    "import matplotlib.pyplot as plt\n",
    "import scipy.stats as stats\n",
    "from pydrive.auth import GoogleAuth\n",
    "from pydrive.drive import GoogleDrive\n",
    "from google.colab import auth\n",
    "from oauth2client.client import GoogleCredentials\n",
    "\n",
    "auth.authenticate_user()\n",
    "gauth = GoogleAuth()\n",
    "gauth.credentials = GoogleCredentials.get_application_default()\n",
    "drive = GoogleDrive(gauth)"
   ]
  },
  {
   "cell_type": "code",
   "execution_count": 9,
   "metadata": {},
   "outputs": [
    {
     "output_type": "execute_result",
     "data": {
      "text/plain": "3406"
     },
     "metadata": {},
     "execution_count": 9
    }
   ],
   "source": [
    "len(gpu)"
   ]
  },
  {
   "cell_type": "code",
   "execution_count": 7,
   "metadata": {
    "tags": []
   },
   "outputs": [
    {
     "output_type": "stream",
     "name": "stdout",
     "text": "<class 'pandas.core.frame.DataFrame'>\nRangeIndex: 3406 entries, 0 to 3405\nData columns (total 34 columns):\n #   Column                  Non-Null Count  Dtype  \n---  ------                  --------------  -----  \n 0   Architecture            3344 non-null   object \n 1   Best_Resolution         2764 non-null   object \n 2   Boost_Clock             1446 non-null   object \n 3   Core_Speed              3406 non-null   object \n 4   DVI_Connection          2656 non-null   float64\n 5   Dedicated               3392 non-null   object \n 6   Direct_X                3400 non-null   object \n 7   DisplayPort_Connection  857 non-null    float64\n 8   HDMI_Connection         2643 non-null   float64\n 9   Integrated              3392 non-null   object \n 10  L2_Cache                3406 non-null   object \n 11  Manufacturer            3406 non-null   object \n 12  Max_Power               2781 non-null   object \n 13  Memory                  2986 non-null   object \n 14  Memory_Bandwidth        3285 non-null   object \n 15  Memory_Bus              3344 non-null   object \n 16  Memory_Speed            3301 non-null   object \n 17  Memory_Type             3350 non-null   object \n 18  Name                    3406 non-null   object \n 19  Notebook_GPU            3406 non-null   object \n 20  Open_GL                 3366 non-null   float64\n 21  PSU                     2231 non-null   object \n 22  Pixel_Rate              2862 non-null   object \n 23  Power_Connector         2697 non-null   object \n 24  Process                 2943 non-null   object \n 25  ROPs                    2868 non-null   object \n 26  Release_Date            3406 non-null   object \n 27  Release_Price           556 non-null    object \n 28  Resolution_WxH          3211 non-null   object \n 29  SLI_Crossfire           3406 non-null   object \n 30  Shader                  3299 non-null   float64\n 31  TMUs                    2868 non-null   float64\n 32  Texture_Rate            2862 non-null   object \n 33  VGA_Connection          2648 non-null   float64\ndtypes: float64(7), object(27)\nmemory usage: 904.8+ KB\n"
    }
   ],
   "source": [
    "gpu.info()"
   ]
  },
  {
   "cell_type": "code",
   "execution_count": 14,
   "metadata": {},
   "outputs": [],
   "source": [
    "desktop_gpus = gpu[gpu['Notebook_GPU'] == 'No']"
   ]
  },
  {
   "cell_type": "code",
   "execution_count": 17,
   "metadata": {},
   "outputs": [
    {
     "output_type": "execute_result",
     "data": {
      "text/plain": "2697"
     },
     "metadata": {},
     "execution_count": 17
    }
   ],
   "source": [
    "len(desktop_gpus)"
   ]
  },
  {
   "cell_type": "code",
   "execution_count": null,
   "metadata": {},
   "outputs": [],
   "source": []
  }
 ]
}